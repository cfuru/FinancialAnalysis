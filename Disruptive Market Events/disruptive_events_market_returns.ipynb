{
 "cells": [
  {
   "cell_type": "code",
   "execution_count": 1,
   "metadata": {},
   "outputs": [
    {
     "ename": "ModuleNotFoundError",
     "evalue": "No module named 'yfinance'",
     "output_type": "error",
     "traceback": [
      "\u001b[1;31m---------------------------------------------------------------------------\u001b[0m",
      "\u001b[1;31mModuleNotFoundError\u001b[0m                       Traceback (most recent call last)",
      "\u001b[1;32mc:\\Users\\chrfur\\OneDrive - PO Söderberg & Partner AB\\1. Projects\\Market Analysis\\disruptive_events_market_returns.ipynb Cell 1\u001b[0m in \u001b[0;36m<cell line: 4>\u001b[1;34m()\u001b[0m\n\u001b[0;32m      <a href='vscode-notebook-cell:/c%3A/Users/chrfur/OneDrive%20-%20PO%20S%C3%B6derberg%20%26%20Partner%20AB/1.%20Projects/Market%20Analysis/disruptive_events_market_returns.ipynb#W0sZmlsZQ%3D%3D?line=1'>2</a>\u001b[0m \u001b[39mimport\u001b[39;00m \u001b[39mpandas\u001b[39;00m \u001b[39mas\u001b[39;00m \u001b[39mpd\u001b[39;00m\n\u001b[0;32m      <a href='vscode-notebook-cell:/c%3A/Users/chrfur/OneDrive%20-%20PO%20S%C3%B6derberg%20%26%20Partner%20AB/1.%20Projects/Market%20Analysis/disruptive_events_market_returns.ipynb#W0sZmlsZQ%3D%3D?line=2'>3</a>\u001b[0m \u001b[39mimport\u001b[39;00m \u001b[39mdatetime\u001b[39;00m\n\u001b[1;32m----> <a href='vscode-notebook-cell:/c%3A/Users/chrfur/OneDrive%20-%20PO%20S%C3%B6derberg%20%26%20Partner%20AB/1.%20Projects/Market%20Analysis/disruptive_events_market_returns.ipynb#W0sZmlsZQ%3D%3D?line=3'>4</a>\u001b[0m \u001b[39mimport\u001b[39;00m \u001b[39myfinance\u001b[39;00m \u001b[39mas\u001b[39;00m \u001b[39myf\u001b[39;00m\n",
      "\u001b[1;31mModuleNotFoundError\u001b[0m: No module named 'yfinance'"
     ]
    }
   ],
   "source": [
    "import numpy as np\n",
    "import pandas as pd\n",
    "import datetime\n",
    "import yfinance as yf"
   ]
  },
  {
   "cell_type": "code",
   "execution_count": null,
   "metadata": {},
   "outputs": [],
   "source": [
    "dates = {\n",
    "    \"Watergate\": datetime.datetime(1972,6,19),\n",
    "    \"Yom Kippur War\": datetime.datetime(1973,10,8),\n",
    "    \"Three Mile Island Accident\": datetime.datetime(1979,3,28),\n",
    "    \"Iran Hostage Crisis\": datetime.datetime(1979,11,5),\n",
    "    \"Reagan Assassination Attempt\": datetime.datetime(1981,3,30),\n",
    "    \"Challenger Space Shuttle\": datetime.datetime(1986,1,28),\n",
    "    \"Iran-Contra Affair\": datetime.datetime(1986,11,3),\n",
    "    \"Iraq Invades Kuwait\": datetime.datetime(1990,8,2),\n",
    "    \"Desert Storm/First Gulf War\": datetime.datetime(1991,1,17),\n",
    "    \"LA Riots\": datetime.datetime(1992,4,29),\n",
    "    \"WTC Bombing\": datetime.datetime(1993,2,26),\n",
    "    \"Oklahoma City Bombing\": datetime.datetime(1995,4,19),\n",
    "    \"Centennial Park Olympic Bombing\": datetime.datetime(1996,7,29),\n",
    "    \"Kenya/Tanzania Embassy Bombings\": datetime.datetime(1998,8,7),\n",
    "    \"USS Cole Bombing\": datetime.datetime(2000,10,12),\n",
    "    \"Bush-Gore Hanging Chad\": datetime.datetime(2000,11,7),\n",
    "    \"9 eleven\": datetime.datetime(2001,9,11),\n",
    "    \"War in Afganistan\": datetime.datetime(2001,10,8),\n",
    "    \"SARS\": datetime.datetime(2003,3,11),\n",
    "    \"Second Gulf War\": datetime.datetime(2003,3,20),\n",
    "    \"Madrid Train Bombings\": datetime.datetime(2004,3,11),\n",
    "    \"Orange Revolution Ukraine\": datetime.datetime(2004,11,22),\n",
    "    \"Asian Tsunami\": datetime.datetime(2004,12,27),\n",
    "    \"London Bombings\": datetime.datetime(2005,7,7),\n",
    "    \"Hurricane Katrina\": datetime.datetime(2005,8,29),\n",
    "    \"Arab Spring\": datetime.datetime(2010,12,17),\n",
    "    \"Boston Marathon Bombing\": datetime.datetime(2013,4,15),\n",
    "    \"Russia/Ukraine/Crimea\": datetime.datetime(2014,2,27),\n",
    "    \"Greek Referendum\": datetime.datetime(2015,11,5),\n",
    "    \"Brexit\": datetime.datetime(2016,6,24),\n",
    "    \"Trump Surprise Election Win\": datetime.datetime(2016,11,8),\n",
    "    \"Hurricane Harvey/Irma/Maria\": datetime.datetime(2017,8,25),\n",
    "    \"US-China Trade War\": datetime.datetime(2018,1,22),\n",
    "    \"Coronavirus Outbreak\": datetime.datetime(2020,2,19),\n",
    "    \"Russia Ukraine War\": datetime.datetime(2021, 2, 20)\n",
    "}\n",
    "type =[\n",
    "    ['Watergate','Political'],\n",
    "    ['Yom Kippur War','War'],\n",
    "    ['Three Mile Island Accident','Environmental'],\n",
    "    ['Iran Hostage Crisis','Political'],\n",
    "    ['Reagan Assassination Attempt','Political'],\n",
    "    ['Challenger Space Shuttle','Social'],\n",
    "    ['Iran-Contra Affair','War'],\n",
    "    ['Iraq Invades Kuwait','War'],\n",
    "    ['Desert Storm/First Gulf War','War'],\n",
    "    ['LA Riots','Political'],\n",
    "    ['WTC Bombing','Terrorism'],\n",
    "    ['Oklahoma City Bombing','Terrorism'],\n",
    "    ['Centennial Park Olympic Bombing','Terrorism'],\n",
    "    ['Kenya/Tanzania Embassy Bombings','Terrorism'],\n",
    "    ['USS Cole Bombing','Terrorism'],\n",
    "    ['Bush-Gore Hanging Chad','Political'],\n",
    "    ['9 eleven','Terrorism'],\n",
    "    ['War in Afganistan','War'],\n",
    "    ['SARS','Social'],\n",
    "    ['Second Gulf War','War'],\n",
    "    ['Madrid Train Bombings','Terrorism'],\n",
    "    ['Orange Revolution Ukraine','Political'],\n",
    "    ['Asian Tsunami','Environmental'],\n",
    "    ['London Bombings','Terrorism'],\n",
    "    ['Hurricane Katrina','Environmental'],\n",
    "    ['Arab Spring','Social'],\n",
    "    ['Boston Marathon Bombing','Terrorism'],\n",
    "    ['Russia/Ukraine/Crimea','War'],\n",
    "    ['Greek Referendum','Political'],\n",
    "    ['Brexit','Social'],\n",
    "    ['Trump Surprise Election Win','Political'],\n",
    "    ['Hurricane Harvey/Irma/Maria','Environmental'],\n",
    "    ['US-China Trade War','Political'],\n",
    "    ['Coronavirus Outbreak','Social'],\n",
    "    ['Russia Ukraine War', 'War']\n",
    "]\n",
    "\n",
    "df_event_type = pd.DataFrame(type, columns = [\"Event\", \"Type\"]).set_index(\"Event\")\n",
    "df_event_type"
   ]
  },
  {
   "cell_type": "code",
   "execution_count": null,
   "metadata": {},
   "outputs": [],
   "source": [
    "df_master = []\n",
    "for name, date in dates.items():\n",
    "    df = yf.download(\"^GSPC\", start = date, end = date + datetime.timedelta(days = 365))[\"Close\"]\n",
    "    W = (df.pct_change(1).resample(\"W\").sum().iloc[0] * 100)#.round(0).astype(str) + '%'\n",
    "    M = (df.pct_change(1).resample(\"M\").sum().iloc[0] * 100)#.round(0).astype(str) + '%'\n",
    "    Q = (df.pct_change(1).resample(\"Q\").sum().iloc[0] * 100)#.round(0).astype(str) + '%'\n",
    "    Y = (df.pct_change(1).sum()*100)#.round(0).astype(str) + '%'\n",
    "    df_master.append([name, date, W, M, Q, Y])"
   ]
  },
  {
   "cell_type": "code",
   "execution_count": null,
   "metadata": {},
   "outputs": [],
   "source": [
    "df_event = pd.DataFrame(df_master, columns = [\"Event\", \"Event Date\", \"First Week\", \"First Month\", \"First Quarter\", \"First Year\"]).set_index(\"Event\")\n",
    "df_event[\"Event Type\"] = df_event_type.Type\n",
    "df_event = df_event[[\"Event Date\", \"Event Type\", \"First Week\", \"First Month\", \"First Quarter\", \"First Year\"]]\n",
    "df_event.loc['Average']= df_event.mean(numeric_only=True, axis=0)\n",
    "df_event"
   ]
  },
  {
   "cell_type": "code",
   "execution_count": null,
   "metadata": {},
   "outputs": [],
   "source": [
    "def colour_numbers(series):\n",
    "    red    = 'background-color: lightcoral;'\n",
    "    green = 'background-color: palegreen;'     \n",
    "    default = ''\n",
    "\n",
    "    # note multiple else ..if conditions\n",
    "    return [red if e < 0 else green for e in series]"
   ]
  },
  {
   "cell_type": "code",
   "execution_count": null,
   "metadata": {},
   "outputs": [],
   "source": [
    "(df_event\n",
    " .style\n",
    " .format(precision = 0,\n",
    "         formatter={(\"First Week\"): lambda x: \"{:,.1f}%\".format(x),\n",
    "                    (\"First Month\"): lambda x: \"{:,.1f}%\".format(x),\n",
    "                    (\"First Quarter\"): lambda x: \"{:,.1f}%\".format(x),\n",
    "                    (\"First Year\"): lambda x: \"{:,.1f}%\".format(x)\n",
    "                    })\n",
    " .apply(colour_numbers, axis=0, subset=[\"First Week\", \"First Month\", \"First Quarter\", \"First Year\"]))"
   ]
  },
  {
   "cell_type": "code",
   "execution_count": null,
   "metadata": {},
   "outputs": [],
   "source": [
    "df_event_type = df_event.groupby(\"Event Type\").mean()\n",
    "(df_event_type\n",
    " .style\n",
    " .format(precision = 0,\n",
    "         formatter={(\"First Week\"): lambda x: \"{:,.1f}%\".format(x),\n",
    "                    (\"First Month\"): lambda x: \"{:,.1f}%\".format(x),\n",
    "                    (\"First Quarter\"): lambda x: \"{:,.1f}%\".format(x),\n",
    "                    (\"First Year\"): lambda x: \"{:,.1f}%\".format(x)\n",
    "                    })\n",
    " .apply(colour_numbers, axis=0, subset=[\"First Week\", \"First Month\", \"First Quarter\", \"First Year\"]))"
   ]
  },
  {
   "cell_type": "code",
   "execution_count": null,
   "metadata": {},
   "outputs": [],
   "source": []
  }
 ],
 "metadata": {
  "kernelspec": {
   "display_name": "Python 3.10.5 64-bit",
   "language": "python",
   "name": "python3"
  },
  "language_info": {
   "codemirror_mode": {
    "name": "ipython",
    "version": 3
   },
   "file_extension": ".py",
   "mimetype": "text/x-python",
   "name": "python",
   "nbconvert_exporter": "python",
   "pygments_lexer": "ipython3",
   "version": "3.10.5"
  },
  "orig_nbformat": 4,
  "vscode": {
   "interpreter": {
    "hash": "62e456503ff4835b4ab83c0b58681b4130a707cb7c0f40f39c8ebd73dd7e7d0c"
   }
  }
 },
 "nbformat": 4,
 "nbformat_minor": 2
}
